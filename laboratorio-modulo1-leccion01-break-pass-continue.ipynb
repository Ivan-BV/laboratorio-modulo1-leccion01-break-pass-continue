{
 "cells": [
  {
   "cell_type": "markdown",
   "metadata": {},
   "source": [
    "\n",
    "<div style=\"text-align: center;\">\n",
    "  <img src=\"https://github.com/Hack-io-Data/Imagenes/blob/main/01-LogosHackio/logo_celeste@4x.png?raw=true\" alt=\"esquema\" />\n",
    "</div>\n"
   ]
  },
  {
   "cell_type": "markdown",
   "metadata": {},
   "source": [
    "# Laboratorio de Python: break(), pass(), continue()"
   ]
  },
  {
   "cell_type": "markdown",
   "metadata": {},
   "source": [
    "## Ejercicio 1: Validación de datos numéricos. \n",
    "\n",
    "Escribe un bucle que lea una lista de números y detenga la ejecución si encuentra un valor negativo. Muestra un mensaje indicando el número negativo encontrado.\n"
   ]
  },
  {
   "cell_type": "code",
   "execution_count": 11,
   "metadata": {},
   "outputs": [
    {
     "name": "stdout",
     "output_type": "stream",
     "text": [
      "Valor negativo encontrado\n"
     ]
    }
   ],
   "source": [
    "lista_numeros=[1,2,3,4,5,6,7,232,989,-1,9]\n",
    "for n in lista_numeros:\n",
    "    if n < 0:\n",
    "        print(\"Valor negativo encontrado\")\n",
    "        break\n",
    "    "
   ]
  },
  {
   "cell_type": "markdown",
   "metadata": {},
   "source": [
    "\n",
    "## Ejercicio 2: Filtrado de datos\n",
    "\n",
    "Escribe un bucle que imprima los números de una lista, pero que omita los números pares.\n"
   ]
  },
  {
   "cell_type": "code",
   "execution_count": 7,
   "metadata": {},
   "outputs": [
    {
     "name": "stdout",
     "output_type": "stream",
     "text": [
      "1\n",
      "3\n",
      "5\n",
      "7\n",
      "989\n",
      "-1\n",
      "9\n"
     ]
    }
   ],
   "source": [
    "for n in lista_numeros:\n",
    "    if n % 2 == 0:\n",
    "        continue\n",
    "    else:\n",
    "        print(n)"
   ]
  },
  {
   "cell_type": "markdown",
   "metadata": {},
   "source": [
    "## Ejercicio 3: Búsqueda de un valor\n",
    "\n",
    "Escribe un programa que busque un valor específico en una lista y detenga la búsqueda cuando lo encuentre. Si se encuentra, muestra un mensaje.\n"
   ]
  },
  {
   "cell_type": "code",
   "execution_count": 10,
   "metadata": {},
   "outputs": [
    {
     "name": "stdout",
     "output_type": "stream",
     "text": [
      "Númmero encontrado: 7\n"
     ]
    }
   ],
   "source": [
    "for n in lista_numeros:\n",
    "    if n == 7:\n",
    "        print(f\"Númmero encontrado: {n}\")\n",
    "        break"
   ]
  },
  {
   "cell_type": "markdown",
   "metadata": {},
   "source": [
    "## Ejercicio 4: Estructura de código incompleto\n",
    "\n",
    "Define una función que aún no tenga lógica implementada, pero que se pueda ejecutar sin errores utilizando `pass`."
   ]
  },
  {
   "cell_type": "code",
   "execution_count": null,
   "metadata": {},
   "outputs": [],
   "source": [
    "def funcion_ilogica():\n",
    "    pass"
   ]
  },
  {
   "cell_type": "markdown",
   "metadata": {},
   "source": [
    "## Ejercicio 5: Validación condicional\n",
    "\n",
    "Escribe un bucle que verifique una lista de nombres. Si encuentra un nombre vacío (cadena vacía), salta esa iteración y continúa con los demás nombres.\n"
   ]
  },
  {
   "cell_type": "code",
   "execution_count": 12,
   "metadata": {},
   "outputs": [
    {
     "name": "stdout",
     "output_type": "stream",
     "text": [
      "Luis\n",
      "Marisa\n",
      "Antonio\n",
      "Eva\n"
     ]
    }
   ],
   "source": [
    "lista_nombres = [\"Luis\", \"Marisa\", \"Antonio\", \"\", \"Eva\"]\n",
    "\n",
    "for n in lista_nombres:\n",
    "    if len(n) == 0:\n",
    "        continue\n",
    "    else:\n",
    "        print(n)"
   ]
  },
  {
   "cell_type": "markdown",
   "metadata": {},
   "source": [
    "## Ejercicio 6: Búsqueda de claves en un diccionario\n",
    "\n",
    "Escribe un programa que recorra un diccionario y detenga la búsqueda si encuentra una clave específica pasada por el usuario.\n"
   ]
  },
  {
   "cell_type": "code",
   "execution_count": 21,
   "metadata": {},
   "outputs": [],
   "source": [
    "diccionario = {\n",
    "    1: \"Antonio\",\n",
    "    2: \"Luis\",\n",
    "    3: \"Eva\",\n",
    "    4: \"Sofia\"\n",
    "}\n",
    "\n",
    "clave = int(input(\"Introduce la clave a buscar: \"))\n",
    "for n in diccionario:\n",
    "    if n == clave:\n",
    "        print(\"Encontrado\")\n",
    "        break"
   ]
  },
  {
   "cell_type": "markdown",
   "metadata": {},
   "source": [
    "## Ejercicio 7: Bucle con múltiples excepciones\n",
    "\n",
    "Escribe un bucle que procese una lista de operaciones matemáticas, omitiendo las operaciones que intenten dividir por cero.\n"
   ]
  },
  {
   "cell_type": "code",
   "execution_count": 17,
   "metadata": {},
   "outputs": [
    {
     "name": "stdout",
     "output_type": "stream",
     "text": [
      "1\n",
      "2\n",
      "4\n",
      "Cero\n",
      "3\n",
      "1\n",
      "Cero\n",
      "0\n",
      "1\n",
      "2\n",
      "0\n",
      "Cero\n",
      "3\n",
      "1\n",
      "4\n",
      "4\n",
      "3\n",
      "2\n",
      "0\n",
      "3\n"
     ]
    }
   ],
   "source": [
    "import random\n",
    "lista_operaciones = []\n",
    "\n",
    "#Genero lista de numeros\n",
    "for n in range(20):\n",
    "    lista_operaciones.append(random.randrange(0, 10))\n",
    "\n",
    "for n in lista_operaciones:\n",
    "    if n == 0:\n",
    "        continue\n",
    "    else:\n",
    "        print(n // 2)"
   ]
  },
  {
   "cell_type": "markdown",
   "metadata": {},
   "source": [
    "## Ejercicio 8: Búsqueda en una lista anidada\n",
    "\n",
    "Escribe un programa que recorra una lista de listas y detenga la búsqueda cuando encuentre un valor mayor a 50.\n"
   ]
  },
  {
   "cell_type": "code",
   "execution_count": null,
   "metadata": {},
   "outputs": [],
   "source": [
    "lista_anidada = [[1,6,4],[27,24,2],[34,50,27],[89,8,10]]\n",
    "\n",
    "for sublista in lista_anidada:\n",
    "    for n in sublista:\n",
    "        if n > 50:\n",
    "            print(\"Valor mayor a 50 encontrado\")\n",
    "            break"
   ]
  },
  {
   "cell_type": "markdown",
   "metadata": {},
   "source": [
    "## Ejercicio 9: Evaluación de series temporales\n",
    "\n",
    "Escribe un programa que recorra una lista de datos de series temporales y se detenga si encuentra un valor atípico (mayor a 100).\n"
   ]
  },
  {
   "cell_type": "code",
   "execution_count": 3,
   "metadata": {},
   "outputs": [
    {
     "name": "stdout",
     "output_type": "stream",
     "text": [
      "[141, 51, 101, 41, 68, 111, 132, 107, 58, 148, 121, 146, 80, 140, 111, 57, 82, 40, 116, 51, 109, 144, 99, 13, 37, 128, 147, 28, 40, 27, 122, 127, 17, 24, 101, 72, 106, 83, 103, 18, 143, 29, 48, 66, 104, 140, 38, 135, 37, 103, 40, 82, 102, 80, 109, 52, 138, 13, 111, 109]\n",
      "Valor atípico encontrado\n"
     ]
    }
   ],
   "source": [
    "import random\n",
    "lista_datos = []\n",
    "\n",
    "#Genero lista de datos\n",
    "for n in range(60):\n",
    "    lista_datos.append(random.randrange(1, 150))\n",
    "\n",
    "for n in lista_datos:\n",
    "    if n > 100:\n",
    "        print(\"Valor atípico encontrado\")\n",
    "        break"
   ]
  },
  {
   "cell_type": "markdown",
   "metadata": {},
   "source": [
    "## Ejercicio 10: Iteración con valores faltantes\n",
    "\n",
    "Crea un bucle que recorra una lista de datos de ventas y salte los valores faltantes representados por `None`."
   ]
  },
  {
   "cell_type": "code",
   "execution_count": 5,
   "metadata": {},
   "outputs": [
    {
     "name": "stdout",
     "output_type": "stream",
     "text": [
      "105683\n",
      "76908\n",
      "81090\n",
      "22853\n",
      "62231\n",
      "12863\n",
      "116285\n",
      "48952\n",
      "60008\n",
      "42820\n",
      "1854\n",
      "92342\n",
      "77533\n",
      "34014\n",
      "107646\n",
      "3437\n",
      "54407\n",
      "50991\n",
      "119341\n"
     ]
    }
   ],
   "source": [
    "import random\n",
    "datos_ventas = []\n",
    "\n",
    "numero_random = random.randrange(1, 20)\n",
    "\n",
    "#Genero lista de datos\n",
    "for n in range(20):\n",
    "    if n == numero_random:\n",
    "        datos_ventas.append(None)\n",
    "    else:\n",
    "        datos_ventas.append(random.randrange(1,120000))\n",
    "\n",
    "\n",
    "for n in datos_ventas:\n",
    "    if n is None:\n",
    "        continue\n",
    "    else:\n",
    "        print(n)"
   ]
  },
  {
   "cell_type": "markdown",
   "metadata": {},
   "source": [
    "## Ejercicio 11: Control de flujo en bucles anidados\n",
    "\n",
    "Escribe un bucle que recorra la matriz dada y se detenga si se encuentra un número negativo, mostrando su posición.\n",
    "\n"
   ]
  },
  {
   "cell_type": "code",
   "execution_count": 14,
   "metadata": {},
   "outputs": [
    {
     "name": "stdout",
     "output_type": "stream",
     "text": [
      "0 2\n"
     ]
    }
   ],
   "source": [
    "matriz = [[8, 14, -6], [12 , 7, 4], [-11, 3, 21]]\n",
    "\n",
    "for lista in matriz:\n",
    "    for n in lista:\n",
    "        if n < 0:\n",
    "            break\n",
    "    if n < 0:\n",
    "        print(matriz.index(lista), lista.index(n))\n",
    "        break"
   ]
  },
  {
   "cell_type": "markdown",
   "metadata": {},
   "source": [
    "## Ejercicio 12: Placeholder para funciones incompletas\n",
    "\n",
    "Escribe una función que tenga un bloque de control que aún no esté implementado, utilizando `pass` para que no genere errores."
   ]
  },
  {
   "cell_type": "code",
   "execution_count": null,
   "metadata": {},
   "outputs": [],
   "source": [
    "def funcion_ilogica():\n",
    "    pass"
   ]
  }
 ],
 "metadata": {
  "kernelspec": {
   "display_name": "contenido",
   "language": "python",
   "name": "python3"
  },
  "language_info": {
   "codemirror_mode": {
    "name": "ipython",
    "version": 3
   },
   "file_extension": ".py",
   "mimetype": "text/x-python",
   "name": "python",
   "nbconvert_exporter": "python",
   "pygments_lexer": "ipython3",
   "version": "3.12.6"
  }
 },
 "nbformat": 4,
 "nbformat_minor": 2
}
